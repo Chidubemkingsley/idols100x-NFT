{
 "cells": [
  {
   "cell_type": "code",
   "execution_count": 2,
   "metadata": {},
   "outputs": [],
   "source": [
    "import asyncio\n",
    "import json\n",
    "\n",
    "from aptos_sdk.account import Account\n",
    "from aptos_sdk.account_address import AccountAddress\n",
    "from aptos_sdk.aptos_token_client import (\n",
    "    AptosTokenClient,\n",
    "    Collection,\n",
    "    Object,\n",
    "    PropertyMap,\n",
    "    ReadObject,\n",
    "    Token,\n",
    "    Property\n",
    ")\n",
    "from aptos_sdk.async_client import FaucetClient, RestClient\n",
    "\n",
    "import os\n",
    "from dotenv import load_dotenv\n",
    "load_dotenv()\n",
    "\n",
    "# :!:>section_1\n",
    "NODE_URL = os.getenv(\"APTOS_NODE_URL\", \"https://fullnode.devnet.aptoslabs.com/v1\")\n",
    "FAUCET_URL = os.getenv(\n",
    "    \"APTOS_FAUCET_URL\",\n",
    "    \"https://faucet.devnet.aptoslabs.com\",\n",
    ")  # <:!:section_1"
   ]
  },
  {
   "cell_type": "code",
   "execution_count": 3,
   "metadata": {},
   "outputs": [],
   "source": [
    "def get_owner(obj: ReadObject) -> AccountAddress:\n",
    "    return obj.resources[Object].owner\n",
    "\n",
    "# :!:>get_token_data\n",
    "async def get_token_data(\n",
    "    token_client: AptosTokenClient, token_addr: AccountAddress\n",
    ") -> dict[str, str]:\n",
    "    token = (await token_client.read_object(token_addr)).resources[Token]\n",
    "    return {\n",
    "        \"collection\": str(token.collection),\n",
    "        \"description\": str(token.description),\n",
    "        \"name\": str(token.name),\n",
    "        \"uri\": str(token.uri),\n",
    "        \"index\": str(token.index),\n",
    "    }  # <:!:get_token_data\n",
    "\n",
    "# :!:>section_6\n",
    "async def get_collection_data(\n",
    "    token_client: AptosTokenClient, collection_addr: AccountAddress\n",
    ") -> dict[str, str]:\n",
    "    collection = (await token_client.read_object(collection_addr)).resources[Collection]\n",
    "    return {\n",
    "        \"creator\": str(collection.creator),\n",
    "        \"name\": str(collection.name),\n",
    "        \"description\": str(collection.description),\n",
    "        \"uri\": str(collection.uri),\n",
    "    }  # <:!:section_6\n",
    "\n"
   ]
  },
  {
   "cell_type": "code",
   "execution_count": 5,
   "metadata": {},
   "outputs": [
    {
     "name": "stdout",
     "output_type": "stream",
     "text": [
      "\n",
      "=== Addresses ===\n",
      "Alice: 0x81edff0d5fabe3cbbf9ccb92c18cc1664eb38672e9262c9c8bd08c0bed258d81\n"
     ]
    }
   ],
   "source": [
    "# Create API and faucet clients.\n",
    "# :!:>section_1a\n",
    "rest_client = RestClient(NODE_URL)\n",
    "faucet_client = FaucetClient(FAUCET_URL, rest_client)  # <:!:section_1a\n",
    "\n",
    "# Create client for working with the token module.\n",
    "# :!:>section_1b\n",
    "token_client = AptosTokenClient(rest_client)  # <:!:section_1b\n",
    "\n",
    "# :!:>section_2\n",
    "PrivateKey = os.getenv(\"PrivateKey\")\n",
    "\n",
    "alice = Account.load_key(PrivateKey)\n",
    "\n",
    "collection_name = \"idol-demo-dev\"\n",
    "token_name = \"ikun\"\n",
    "\n",
    "# :!:>owners\n",
    "owners = {str(alice.address()): \"Alice\"}  # <:!:owners\n",
    "\n",
    "print(\"\\n=== Addresses ===\")\n",
    "print(f\"Alice: {alice.address()}\")"
   ]
  },
  {
   "cell_type": "code",
   "execution_count": 42,
   "metadata": {},
   "outputs": [
    {
     "name": "stdout",
     "output_type": "stream",
     "text": [
      "\n",
      "=== Initial Coin Balances ===\n",
      "Alice: 199895400\n",
      "\n",
      "=== Creating Collection and Token ===\n"
     ]
    }
   ],
   "source": [
    "# :!:>section_3\n",
    "# alice_fund = faucet_client.fund_account(alice.address(), 100_000_000)  # <:!:section_3\n",
    "# await asyncio.gather(*[alice_fund])\n",
    "\n",
    "print(\"\\n=== Initial Coin Balances ===\")\n",
    "alice_balance = rest_client.account_balance(alice.address())\n",
    "[alice_balance] = await asyncio.gather(*[alice_balance])\n",
    "print(f\"Alice: {alice_balance}\")\n",
    "\n",
    "print(\"\\n=== Creating Collection and Token ===\")\n",
    "\n",
    "# :!:>section_4\n",
    "txn_hash = await token_client.create_collection(\n",
    "    alice,\n",
    "    \"idol's simple collection\",\n",
    "    1,\n",
    "    collection_name,\n",
    "    \"https://aptos.dev\",\n",
    "    True,\n",
    "    True,\n",
    "    True,\n",
    "    True,\n",
    "    True,\n",
    "    True,\n",
    "    True,\n",
    "    True,\n",
    "    True,\n",
    "    0,\n",
    "    1,\n",
    ")  # <:!:section_4\n",
    "await rest_client.wait_for_transaction(txn_hash)\n",
    "\n",
    "collection_addr = AccountAddress.for_named_collection(\n",
    "    alice.address(), collection_name\n",
    ")"
   ]
  },
  {
   "cell_type": "code",
   "execution_count": 43,
   "metadata": {},
   "outputs": [],
   "source": [
    "# :!:>section_5\n",
    "txn_hash = await token_client.mint_token(\n",
    "    alice,\n",
    "    collection_name,\n",
    "    \"idol's simple token\",\n",
    "    token_name,\n",
    "    \"https://raw.githubusercontent.com/realTaki/Aptos-hack-round-1/main/NFT/ikun.png\",\n",
    "    PropertyMap([]),\n",
    ")  # <:!:section_5\n",
    "await rest_client.wait_for_transaction(txn_hash)\n",
    "\n",
    "minted_tokens = await token_client.tokens_minted_from_transaction(txn_hash)\n",
    "assert len(minted_tokens) == 1\n",
    "\n",
    "token_addr = minted_tokens[0]\n"
   ]
  },
  {
   "cell_type": "code",
   "execution_count": 16,
   "metadata": {},
   "outputs": [
    {
     "name": "stdout",
     "output_type": "stream",
     "text": [
      "\n",
      "Collection data: {\n",
      "    \"address\": \"0xc2ae9b9441c39ac729404fe898d9c86a3625c0ea29549476cecb5941e0ca3313\",\n",
      "    \"creator\": \"0x81edff0d5fabe3cbbf9ccb92c18cc1664eb38672e9262c9c8bd08c0bed258d81\",\n",
      "    \"name\": \"idol-demo\",\n",
      "    \"description\": \"Alice's simple collection\",\n",
      "    \"uri\": \"https://aptos.dev\"\n",
      "}\n"
     ]
    }
   ],
   "source": [
    "collection_addr = AccountAddress.for_named_collection(\n",
    "    alice.address(), collection_name\n",
    ")\n",
    "collection_data = await get_collection_data(token_client, collection_addr)\n",
    "print(\n",
    "    \"\\nCollection data: \"\n",
    "    + json.dumps({\"address\": str(collection_addr), **collection_data}, indent=4)\n",
    ")\n"
   ]
  },
  {
   "cell_type": "code",
   "execution_count": null,
   "metadata": {},
   "outputs": [],
   "source": [
    "# Check the owner\n",
    "# :!:>section_7\n",
    "obj_resources = await token_client.read_object(token_addr)\n",
    "owner = str(get_owner(obj_resources))\n",
    "print(f\"\\nToken owner: {owners[owner]}\")  # <:!:section_7\n",
    "token_data = await get_token_data(token_client, token_addr)\n",
    "print(\n",
    "    \"Token data: \"\n",
    "    + json.dumps(\n",
    "        {\"address\": str(token_addr), \"owner\": owner, **token_data}, indent=4\n",
    "    )\n",
    ")\n",
    "\n",
    "# Read the object owner one last time\n",
    "# :!:>section_11\n",
    "obj_resources = await token_client.read_object(token_addr)\n",
    "print(f\"Token owner: {owners[str(get_owner(obj_resources))]}\\n\")  # <:!:section_11\n",
    "\n",
    "await rest_client.close()"
   ]
  },
  {
   "cell_type": "code",
   "execution_count": 6,
   "metadata": {},
   "outputs": [
    {
     "name": "stdout",
     "output_type": "stream",
     "text": [
      "Token data: {\"collection\": \"0xaa93b9da1e3ca3bae689040ee8c0b7c1dee4c82c5ee4e350c74195bc267b85cb\", \"description\": \"idol's simple token\", \"name\": \"ikun\", \"uri\": \"https://raw.githubusercontent.com/realTaki/Aptos-hack-round-1/main/NFT/ikun.png\", \"index\": \"1\"}\n"
     ]
    }
   ],
   "source": [
    "token_data = await get_token_data(token_client, \"0x8222f8151b87dc006dde71feaa0f734b161e0c84ad8dde43a57bc0dd2243e0a5\")\n",
    "print(\n",
    "    \"Token data: \"\n",
    "    + json.dumps(\n",
    "       token_data\n",
    "    )\n",
    ")"
   ]
  },
  {
   "cell_type": "code",
   "execution_count": 44,
   "metadata": {},
   "outputs": [
    {
     "name": "stdout",
     "output_type": "stream",
     "text": [
      "ReadObject\n",
      "\t0x1::object::ObjectCore: Object[allow_ungated_transfer: True, owner: 0x81edff0d5fabe3cbbf9ccb92c18cc1664eb38672e9262c9c8bd08c0bed258d81]\n",
      "\t0x4::property_map::PropertyMap: PropertyMap[]\n",
      "\t0x4::token::Token: Token[collection: 0xaa93b9da1e3ca3bae689040ee8c0b7c1dee4c82c5ee4e350c74195bc267b85cb, index: 1, description: idol's simple token, name: ikun, uri: https://raw.githubusercontent.com/realTaki/Aptos-hack-round-1/main/NFT/ikun.png]\n"
     ]
    }
   ],
   "source": [
    "# token_addr = AccountAddress(b\"0x57c3961f9c19be3ace9c8d47b28046860007467878fe94733d8ebb539f412901\")\n",
    "# token_addr\n",
    "obj_resources = await token_client.read_object(\"0x8222f8151b87dc006dde71feaa0f734b161e0c84ad8dde43a57bc0dd2243e0a5\")\n",
    "print(obj_resources)"
   ]
  },
  {
   "cell_type": "code",
   "execution_count": 46,
   "metadata": {},
   "outputs": [
    {
     "name": "stdout",
     "output_type": "stream",
     "text": [
      "\n",
      "Collection data: {\n",
      "    \"creator\": \"0x81edff0d5fabe3cbbf9ccb92c18cc1664eb38672e9262c9c8bd08c0bed258d81\",\n",
      "    \"name\": \"idol-demo-dev\",\n",
      "    \"description\": \"idol's simple collection\",\n",
      "    \"uri\": \"https://aptos.dev\"\n",
      "}\n"
     ]
    }
   ],
   "source": [
    "collection_data = await get_collection_data(token_client, \"0xaa93b9da1e3ca3bae689040ee8c0b7c1dee4c82c5ee4e350c74195bc267b85cb\")\n",
    "print(\n",
    "    \"\\nCollection data: \"\n",
    "    + json.dumps(collection_data, indent=4)\n",
    ")"
   ]
  },
  {
   "cell_type": "code",
   "execution_count": 35,
   "metadata": {},
   "outputs": [
    {
     "data": {
      "text/plain": [
       "0x57c3961f9c19be3ace9c8d47b28046860007467878fe94733d8ebb539f412901"
      ]
     },
     "execution_count": 35,
     "metadata": {},
     "output_type": "execute_result"
    }
   ],
   "source": [
    "token_addr = AccountAddress.from_str(\"0x57c3961f9c19be3ace9c8d47b28046860007467878fe94733d8ebb539f412901\")\n",
    "token_addr"
   ]
  },
  {
   "cell_type": "code",
   "execution_count": 37,
   "metadata": {},
   "outputs": [
    {
     "name": "stdout",
     "output_type": "stream",
     "text": [
      "\n",
      "=== Transferring the token to Bob ===\n"
     ]
    }
   ],
   "source": [
    "zero_addr = AccountAddress.from_str(\"0x000\")\n",
    "print(\"\\n=== Transferring the token to Bob ===\")\n",
    "txn_hash = await token_client.transfer_token(\n",
    "    alice,\n",
    "    token_addr,\n",
    "    zero_addr,\n",
    ")\n",
    "await rest_client.wait_for_transaction(txn_hash)  "
   ]
  },
  {
   "cell_type": "code",
   "execution_count": 38,
   "metadata": {},
   "outputs": [
    {
     "ename": "AssertionError",
     "evalue": "{\"version\":\"535406848\",\"hash\":\"0x79e012f31d87acd1f2188f7353e58ecae30d64228240e0af69352db9d298236d\",\"state_change_hash\":\"0x5f4aabce7206ecbfa0a9e3b2508d4eeadf74c34b4613e2c2000dceebbd1ff6e6\",\"event_root_hash\":\"0x93429c9f85042bf4e7b5be0e3b4ddad17c2202a9e58d17883328c7404fcce2a6\",\"state_checkpoint_hash\":null,\"gas_used\":\"7\",\"success\":false,\"vm_status\":\"Move abort in 0x4::collection: ECOLLECTION_SUPPLY_EXCEEDED(0x20002): The collection has reached its supply and no more tokens can be minted, unless some are burned\",\"accumulator_root_hash\":\"0x3a7ac7c09426005df695d95deea17c4963032dd234dd210afcbc234748225d54\",\"changes\":[{\"address\":\"0x81edff0d5fabe3cbbf9ccb92c18cc1664eb38672e9262c9c8bd08c0bed258d81\",\"state_key_hash\":\"0xae64aedc2e651f20b9c510186523456f8cf4da37ea480b25dfa7bc0a4821bbaf\",\"data\":{\"type\":\"0x1::coin::CoinStore<0x1::aptos_coin::AptosCoin>\",\"data\":{\"coin\":{\"value\":\"199895900\"},\"deposit_events\":{\"counter\":\"2\",\"guid\":{\"id\":{\"addr\":\"0x81edff0d5fabe3cbbf9ccb92c18cc1664eb38672e9262c9c8bd08c0bed258d81\",\"creation_num\":\"2\"}}},\"frozen\":false,\"withdraw_events\":{\"counter\":\"0\",\"guid\":{\"id\":{\"addr\":\"0x81edff0d5fabe3cbbf9ccb92c18cc1664eb38672e9262c9c8bd08c0bed258d81\",\"creation_num\":\"3\"}}}}},\"type\":\"write_resource\"},{\"address\":\"0x81edff0d5fabe3cbbf9ccb92c18cc1664eb38672e9262c9c8bd08c0bed258d81\",\"state_key_hash\":\"0x1cb2c50a9602fec055deb1bc9e4407fa2bfea28007f7da0226ecccb8e6925595\",\"data\":{\"type\":\"0x1::account::Account\",\"data\":{\"authentication_key\":\"0x81edff0d5fabe3cbbf9ccb92c18cc1664eb38672e9262c9c8bd08c0bed258d81\",\"coin_register_events\":{\"counter\":\"1\",\"guid\":{\"id\":{\"addr\":\"0x81edff0d5fabe3cbbf9ccb92c18cc1664eb38672e9262c9c8bd08c0bed258d81\",\"creation_num\":\"0\"}}},\"guid_creation_num\":\"4\",\"key_rotation_events\":{\"counter\":\"0\",\"guid\":{\"id\":{\"addr\":\"0x81edff0d5fabe3cbbf9ccb92c18cc1664eb38672e9262c9c8bd08c0bed258d81\",\"creation_num\":\"1\"}}},\"rotation_capability_offer\":{\"for\":{\"vec\":[]}},\"sequence_number\":\"6\",\"signer_capability_offer\":{\"for\":{\"vec\":[]}}}},\"type\":\"write_resource\"},{\"state_key_hash\":\"0x6e4b28d40f98a106a65163530924c0dcb40c1349d3aa915d108b4d6cfc1ddb19\",\"handle\":\"0x1b854694ae746cdbd8d44186ca4929b2b337df21d1c74633be19b2710552fdca\",\"key\":\"0x0619dc29a0aac8fa146714058e8dd6d2d0f3bdf5f6331907bf91f3acd81e6935\",\"value\":\"0x772c0eb5289103000100000000000000\",\"data\":null,\"type\":\"write_table_item\"}],\"sender\":\"0x81edff0d5fabe3cbbf9ccb92c18cc1664eb38672e9262c9c8bd08c0bed258d81\",\"sequence_number\":\"5\",\"max_gas_amount\":\"100000\",\"gas_unit_price\":\"100\",\"expiration_timestamp_secs\":\"1707015952\",\"payload\":{\"function\":\"0x4::aptos_token::mint\",\"type_arguments\":[],\"arguments\":[\"idol-demo\",\"idol-demo's simple token\",\"ikun\",\"https://raw.githubusercontent.com/realTaki/Aptos-hack-round-1/main/NFT/ikun.png\",[],[],[]],\"type\":\"entry_function_payload\"},\"signature\":{\"public_key\":\"0x9844540b7039b7740c2f025e6da37edf960ff361a2e77c1497295e0e06e509f9\",\"signature\":\"0xf64103a27b2b459cb7630c202a1bd9ec202182049b991a03f18f70c7aa28a0f799acf20f0ed39bcebf89d2978fbf6edbbffa480af054d7598d91212aff834c06\",\"type\":\"ed25519_signature\"},\"events\":[{\"guid\":{\"creation_number\":\"0\",\"account_address\":\"0x0\"},\"sequence_number\":\"0\",\"type\":\"0x1::transaction_fee::FeeStatement\",\"data\":{\"execution_gas_units\":\"4\",\"io_gas_units\":\"4\",\"storage_fee_octas\":\"0\",\"storage_fee_refund_octas\":\"0\",\"total_charge_gas_units\":\"7\"}}],\"timestamp\":\"1707015352508601\",\"type\":\"user_transaction\"} - 0x79e012f31d87acd1f2188f7353e58ecae30d64228240e0af69352db9d298236d",
     "output_type": "error",
     "traceback": [
      "\u001b[0;31m---------------------------------------------------------------------------\u001b[0m",
      "\u001b[0;31mAssertionError\u001b[0m                            Traceback (most recent call last)",
      "Cell \u001b[0;32mIn[38], line 10\u001b[0m\n\u001b[1;32m      1\u001b[0m \u001b[38;5;66;03m# :!:>section_5\u001b[39;00m\n\u001b[1;32m      2\u001b[0m txn_hash \u001b[38;5;241m=\u001b[39m \u001b[38;5;28;01mawait\u001b[39;00m token_client\u001b[38;5;241m.\u001b[39mmint_token(\n\u001b[1;32m      3\u001b[0m     alice,\n\u001b[1;32m      4\u001b[0m     collection_name,\n\u001b[0;32m   (...)\u001b[0m\n\u001b[1;32m      8\u001b[0m     PropertyMap([]),\n\u001b[1;32m      9\u001b[0m )  \u001b[38;5;66;03m# <:!:section_5\u001b[39;00m\n\u001b[0;32m---> 10\u001b[0m \u001b[38;5;28;01mawait\u001b[39;00m rest_client\u001b[38;5;241m.\u001b[39mwait_for_transaction(txn_hash)\n",
      "File \u001b[0;32m~/miniconda3/envs/aptos/lib/python3.10/site-packages/aptos_sdk/async_client.py:349\u001b[0m, in \u001b[0;36mRestClient.wait_for_transaction\u001b[0;34m(self, txn_hash)\u001b[0m\n\u001b[1;32m    344\u001b[0m     count \u001b[38;5;241m+\u001b[39m\u001b[38;5;241m=\u001b[39m \u001b[38;5;241m1\u001b[39m\n\u001b[1;32m    345\u001b[0m response \u001b[38;5;241m=\u001b[39m \u001b[38;5;28;01mawait\u001b[39;00m \u001b[38;5;28mself\u001b[39m\u001b[38;5;241m.\u001b[39mclient\u001b[38;5;241m.\u001b[39mget(\n\u001b[1;32m    346\u001b[0m     \u001b[38;5;124mf\u001b[39m\u001b[38;5;124m\"\u001b[39m\u001b[38;5;132;01m{\u001b[39;00m\u001b[38;5;28mself\u001b[39m\u001b[38;5;241m.\u001b[39mbase_url\u001b[38;5;132;01m}\u001b[39;00m\u001b[38;5;124m/transactions/by_hash/\u001b[39m\u001b[38;5;132;01m{\u001b[39;00mtxn_hash\u001b[38;5;132;01m}\u001b[39;00m\u001b[38;5;124m\"\u001b[39m\n\u001b[1;32m    347\u001b[0m )\n\u001b[1;32m    348\u001b[0m \u001b[38;5;28;01massert\u001b[39;00m (\n\u001b[0;32m--> 349\u001b[0m     \u001b[38;5;124m\"\u001b[39m\u001b[38;5;124msuccess\u001b[39m\u001b[38;5;124m\"\u001b[39m \u001b[38;5;129;01min\u001b[39;00m response\u001b[38;5;241m.\u001b[39mjson() \u001b[38;5;129;01mand\u001b[39;00m response\u001b[38;5;241m.\u001b[39mjson()[\u001b[38;5;124m\"\u001b[39m\u001b[38;5;124msuccess\u001b[39m\u001b[38;5;124m\"\u001b[39m]\n\u001b[1;32m    350\u001b[0m ), \u001b[38;5;124mf\u001b[39m\u001b[38;5;124m\"\u001b[39m\u001b[38;5;132;01m{\u001b[39;00mresponse\u001b[38;5;241m.\u001b[39mtext\u001b[38;5;132;01m}\u001b[39;00m\u001b[38;5;124m - \u001b[39m\u001b[38;5;132;01m{\u001b[39;00mtxn_hash\u001b[38;5;132;01m}\u001b[39;00m\u001b[38;5;124m\"\u001b[39m\n",
      "\u001b[0;31mAssertionError\u001b[0m: {\"version\":\"535406848\",\"hash\":\"0x79e012f31d87acd1f2188f7353e58ecae30d64228240e0af69352db9d298236d\",\"state_change_hash\":\"0x5f4aabce7206ecbfa0a9e3b2508d4eeadf74c34b4613e2c2000dceebbd1ff6e6\",\"event_root_hash\":\"0x93429c9f85042bf4e7b5be0e3b4ddad17c2202a9e58d17883328c7404fcce2a6\",\"state_checkpoint_hash\":null,\"gas_used\":\"7\",\"success\":false,\"vm_status\":\"Move abort in 0x4::collection: ECOLLECTION_SUPPLY_EXCEEDED(0x20002): The collection has reached its supply and no more tokens can be minted, unless some are burned\",\"accumulator_root_hash\":\"0x3a7ac7c09426005df695d95deea17c4963032dd234dd210afcbc234748225d54\",\"changes\":[{\"address\":\"0x81edff0d5fabe3cbbf9ccb92c18cc1664eb38672e9262c9c8bd08c0bed258d81\",\"state_key_hash\":\"0xae64aedc2e651f20b9c510186523456f8cf4da37ea480b25dfa7bc0a4821bbaf\",\"data\":{\"type\":\"0x1::coin::CoinStore<0x1::aptos_coin::AptosCoin>\",\"data\":{\"coin\":{\"value\":\"199895900\"},\"deposit_events\":{\"counter\":\"2\",\"guid\":{\"id\":{\"addr\":\"0x81edff0d5fabe3cbbf9ccb92c18cc1664eb38672e9262c9c8bd08c0bed258d81\",\"creation_num\":\"2\"}}},\"frozen\":false,\"withdraw_events\":{\"counter\":\"0\",\"guid\":{\"id\":{\"addr\":\"0x81edff0d5fabe3cbbf9ccb92c18cc1664eb38672e9262c9c8bd08c0bed258d81\",\"creation_num\":\"3\"}}}}},\"type\":\"write_resource\"},{\"address\":\"0x81edff0d5fabe3cbbf9ccb92c18cc1664eb38672e9262c9c8bd08c0bed258d81\",\"state_key_hash\":\"0x1cb2c50a9602fec055deb1bc9e4407fa2bfea28007f7da0226ecccb8e6925595\",\"data\":{\"type\":\"0x1::account::Account\",\"data\":{\"authentication_key\":\"0x81edff0d5fabe3cbbf9ccb92c18cc1664eb38672e9262c9c8bd08c0bed258d81\",\"coin_register_events\":{\"counter\":\"1\",\"guid\":{\"id\":{\"addr\":\"0x81edff0d5fabe3cbbf9ccb92c18cc1664eb38672e9262c9c8bd08c0bed258d81\",\"creation_num\":\"0\"}}},\"guid_creation_num\":\"4\",\"key_rotation_events\":{\"counter\":\"0\",\"guid\":{\"id\":{\"addr\":\"0x81edff0d5fabe3cbbf9ccb92c18cc1664eb38672e9262c9c8bd08c0bed258d81\",\"creation_num\":\"1\"}}},\"rotation_capability_offer\":{\"for\":{\"vec\":[]}},\"sequence_number\":\"6\",\"signer_capability_offer\":{\"for\":{\"vec\":[]}}}},\"type\":\"write_resource\"},{\"state_key_hash\":\"0x6e4b28d40f98a106a65163530924c0dcb40c1349d3aa915d108b4d6cfc1ddb19\",\"handle\":\"0x1b854694ae746cdbd8d44186ca4929b2b337df21d1c74633be19b2710552fdca\",\"key\":\"0x0619dc29a0aac8fa146714058e8dd6d2d0f3bdf5f6331907bf91f3acd81e6935\",\"value\":\"0x772c0eb5289103000100000000000000\",\"data\":null,\"type\":\"write_table_item\"}],\"sender\":\"0x81edff0d5fabe3cbbf9ccb92c18cc1664eb38672e9262c9c8bd08c0bed258d81\",\"sequence_number\":\"5\",\"max_gas_amount\":\"100000\",\"gas_unit_price\":\"100\",\"expiration_timestamp_secs\":\"1707015952\",\"payload\":{\"function\":\"0x4::aptos_token::mint\",\"type_arguments\":[],\"arguments\":[\"idol-demo\",\"idol-demo's simple token\",\"ikun\",\"https://raw.githubusercontent.com/realTaki/Aptos-hack-round-1/main/NFT/ikun.png\",[],[],[]],\"type\":\"entry_function_payload\"},\"signature\":{\"public_key\":\"0x9844540b7039b7740c2f025e6da37edf960ff361a2e77c1497295e0e06e509f9\",\"signature\":\"0xf64103a27b2b459cb7630c202a1bd9ec202182049b991a03f18f70c7aa28a0f799acf20f0ed39bcebf89d2978fbf6edbbffa480af054d7598d91212aff834c06\",\"type\":\"ed25519_signature\"},\"events\":[{\"guid\":{\"creation_number\":\"0\",\"account_address\":\"0x0\"},\"sequence_number\":\"0\",\"type\":\"0x1::transaction_fee::FeeStatement\",\"data\":{\"execution_gas_units\":\"4\",\"io_gas_units\":\"4\",\"storage_fee_octas\":\"0\",\"storage_fee_refund_octas\":\"0\",\"total_charge_gas_units\":\"7\"}}],\"timestamp\":\"1707015352508601\",\"type\":\"user_transaction\"} - 0x79e012f31d87acd1f2188f7353e58ecae30d64228240e0af69352db9d298236d"
     ]
    }
   ],
   "source": [
    "# :!:>section_5\n",
    "txn_hash = await token_client.mint_token(\n",
    "    alice,\n",
    "    collection_name,\n",
    "    \"idol-demo's simple token\",\n",
    "    token_name,\n",
    "    \"https://raw.githubusercontent.com/realTaki/Aptos-hack-round-1/main/NFT/ikun.png\",\n",
    "    PropertyMap([]),\n",
    ")  # <:!:section_5\n",
    "await rest_client.wait_for_transaction(txn_hash)"
   ]
  },
  {
   "cell_type": "code",
   "execution_count": 36,
   "metadata": {},
   "outputs": [
    {
     "ename": "AssertionError",
     "evalue": "{\"version\":\"535395212\",\"hash\":\"0x67ff922436d5eee13e61de9c5e0b0b06ca46cb0b81c4bca8683ff16e7d7374af\",\"state_change_hash\":\"0x033b3a733d2c61a04f25de9655d0a2925eea257b9a621f70b589677b3de5c339\",\"event_root_hash\":\"0x93429c9f85042bf4e7b5be0e3b4ddad17c2202a9e58d17883328c7404fcce2a6\",\"state_checkpoint_hash\":null,\"gas_used\":\"7\",\"success\":false,\"vm_status\":\"Move abort in 0x1::simple_map: EKEY_NOT_FOUND(0x10002): Map key is not found\",\"accumulator_root_hash\":\"0x5beb943ddbce79d5a883969d13b5c21b89540f4a818b76a715998bbac695faae\",\"changes\":[{\"address\":\"0x81edff0d5fabe3cbbf9ccb92c18cc1664eb38672e9262c9c8bd08c0bed258d81\",\"state_key_hash\":\"0xae64aedc2e651f20b9c510186523456f8cf4da37ea480b25dfa7bc0a4821bbaf\",\"data\":{\"type\":\"0x1::coin::CoinStore<0x1::aptos_coin::AptosCoin>\",\"data\":{\"coin\":{\"value\":\"199897100\"},\"deposit_events\":{\"counter\":\"2\",\"guid\":{\"id\":{\"addr\":\"0x81edff0d5fabe3cbbf9ccb92c18cc1664eb38672e9262c9c8bd08c0bed258d81\",\"creation_num\":\"2\"}}},\"frozen\":false,\"withdraw_events\":{\"counter\":\"0\",\"guid\":{\"id\":{\"addr\":\"0x81edff0d5fabe3cbbf9ccb92c18cc1664eb38672e9262c9c8bd08c0bed258d81\",\"creation_num\":\"3\"}}}}},\"type\":\"write_resource\"},{\"address\":\"0x81edff0d5fabe3cbbf9ccb92c18cc1664eb38672e9262c9c8bd08c0bed258d81\",\"state_key_hash\":\"0x1cb2c50a9602fec055deb1bc9e4407fa2bfea28007f7da0226ecccb8e6925595\",\"data\":{\"type\":\"0x1::account::Account\",\"data\":{\"authentication_key\":\"0x81edff0d5fabe3cbbf9ccb92c18cc1664eb38672e9262c9c8bd08c0bed258d81\",\"coin_register_events\":{\"counter\":\"1\",\"guid\":{\"id\":{\"addr\":\"0x81edff0d5fabe3cbbf9ccb92c18cc1664eb38672e9262c9c8bd08c0bed258d81\",\"creation_num\":\"0\"}}},\"guid_creation_num\":\"4\",\"key_rotation_events\":{\"counter\":\"0\",\"guid\":{\"id\":{\"addr\":\"0x81edff0d5fabe3cbbf9ccb92c18cc1664eb38672e9262c9c8bd08c0bed258d81\",\"creation_num\":\"1\"}}},\"rotation_capability_offer\":{\"for\":{\"vec\":[]}},\"sequence_number\":\"4\",\"signer_capability_offer\":{\"for\":{\"vec\":[]}}}},\"type\":\"write_resource\"},{\"state_key_hash\":\"0x6e4b28d40f98a106a65163530924c0dcb40c1349d3aa915d108b4d6cfc1ddb19\",\"handle\":\"0x1b854694ae746cdbd8d44186ca4929b2b337df21d1c74633be19b2710552fdca\",\"key\":\"0x0619dc29a0aac8fa146714058e8dd6d2d0f3bdf5f6331907bf91f3acd81e6935\",\"value\":\"0x63649d9e279103000100000000000000\",\"data\":null,\"type\":\"write_table_item\"}],\"sender\":\"0x81edff0d5fabe3cbbf9ccb92c18cc1664eb38672e9262c9c8bd08c0bed258d81\",\"sequence_number\":\"3\",\"max_gas_amount\":\"100000\",\"gas_unit_price\":\"100\",\"expiration_timestamp_secs\":\"1707014253\",\"payload\":{\"function\":\"0x4::aptos_token::update_property\",\"type_arguments\":[\"0x4::token::Token\"],\"arguments\":[{\"inner\":\"0x57c3961f9c19be3ace9c8d47b28046860007467878fe94733d8ebb539f412901\"},\"uri\",\"0x1::string::String\",\"0x4f68747470733a2f2f7261772e67697468756275736572636f6e74656e742e636f6d2f7265616c54616b692f4170746f732d6861636b2d726f756e642d312f6d61696e2f4e46542f696b756e2e706e67\"],\"type\":\"entry_function_payload\"},\"signature\":{\"public_key\":\"0x9844540b7039b7740c2f025e6da37edf960ff361a2e77c1497295e0e06e509f9\",\"signature\":\"0x877fc43acd7ca8f7da1cd05e26517c552ff23f716a9069b3dba25ab14eb053a493dfe92116a9c50f59f2053b56f5488bf4ccc3e5e8b6552aa260a4beb7371309\",\"type\":\"ed25519_signature\"},\"events\":[{\"guid\":{\"creation_number\":\"0\",\"account_address\":\"0x0\"},\"sequence_number\":\"0\",\"type\":\"0x1::transaction_fee::FeeStatement\",\"data\":{\"execution_gas_units\":\"4\",\"io_gas_units\":\"4\",\"storage_fee_octas\":\"0\",\"storage_fee_refund_octas\":\"0\",\"total_charge_gas_units\":\"7\"}}],\"timestamp\":\"1707013653868488\",\"type\":\"user_transaction\"} - 0x67ff922436d5eee13e61de9c5e0b0b06ca46cb0b81c4bca8683ff16e7d7374af",
     "output_type": "error",
     "traceback": [
      "\u001b[0;31m---------------------------------------------------------------------------\u001b[0m",
      "\u001b[0;31mAssertionError\u001b[0m                            Traceback (most recent call last)",
      "Cell \u001b[0;32mIn[36], line 2\u001b[0m\n\u001b[1;32m      1\u001b[0m txn_hash \u001b[38;5;241m=\u001b[39m \u001b[38;5;28;01mawait\u001b[39;00m token_client\u001b[38;5;241m.\u001b[39mupdate_token_property(alice, token_addr, Property(name\u001b[38;5;241m=\u001b[39m\u001b[38;5;124m\"\u001b[39m\u001b[38;5;124muri\u001b[39m\u001b[38;5;124m\"\u001b[39m, value\u001b[38;5;241m=\u001b[39m\u001b[38;5;124m\"\u001b[39m\u001b[38;5;124mhttps://raw.githubusercontent.com/realTaki/Aptos-hack-round-1/main/NFT/ikun.png\u001b[39m\u001b[38;5;124m\"\u001b[39m, property_type\u001b[38;5;241m=\u001b[39m\u001b[38;5;124m\"\u001b[39m\u001b[38;5;124m0x1::string::String\u001b[39m\u001b[38;5;124m\"\u001b[39m))\n\u001b[0;32m----> 2\u001b[0m \u001b[38;5;28;01mawait\u001b[39;00m rest_client\u001b[38;5;241m.\u001b[39mwait_for_transaction(txn_hash)\n",
      "File \u001b[0;32m~/miniconda3/envs/aptos/lib/python3.10/site-packages/aptos_sdk/async_client.py:349\u001b[0m, in \u001b[0;36mRestClient.wait_for_transaction\u001b[0;34m(self, txn_hash)\u001b[0m\n\u001b[1;32m    344\u001b[0m     count \u001b[38;5;241m+\u001b[39m\u001b[38;5;241m=\u001b[39m \u001b[38;5;241m1\u001b[39m\n\u001b[1;32m    345\u001b[0m response \u001b[38;5;241m=\u001b[39m \u001b[38;5;28;01mawait\u001b[39;00m \u001b[38;5;28mself\u001b[39m\u001b[38;5;241m.\u001b[39mclient\u001b[38;5;241m.\u001b[39mget(\n\u001b[1;32m    346\u001b[0m     \u001b[38;5;124mf\u001b[39m\u001b[38;5;124m\"\u001b[39m\u001b[38;5;132;01m{\u001b[39;00m\u001b[38;5;28mself\u001b[39m\u001b[38;5;241m.\u001b[39mbase_url\u001b[38;5;132;01m}\u001b[39;00m\u001b[38;5;124m/transactions/by_hash/\u001b[39m\u001b[38;5;132;01m{\u001b[39;00mtxn_hash\u001b[38;5;132;01m}\u001b[39;00m\u001b[38;5;124m\"\u001b[39m\n\u001b[1;32m    347\u001b[0m )\n\u001b[1;32m    348\u001b[0m \u001b[38;5;28;01massert\u001b[39;00m (\n\u001b[0;32m--> 349\u001b[0m     \u001b[38;5;124m\"\u001b[39m\u001b[38;5;124msuccess\u001b[39m\u001b[38;5;124m\"\u001b[39m \u001b[38;5;129;01min\u001b[39;00m response\u001b[38;5;241m.\u001b[39mjson() \u001b[38;5;129;01mand\u001b[39;00m response\u001b[38;5;241m.\u001b[39mjson()[\u001b[38;5;124m\"\u001b[39m\u001b[38;5;124msuccess\u001b[39m\u001b[38;5;124m\"\u001b[39m]\n\u001b[1;32m    350\u001b[0m ), \u001b[38;5;124mf\u001b[39m\u001b[38;5;124m\"\u001b[39m\u001b[38;5;132;01m{\u001b[39;00mresponse\u001b[38;5;241m.\u001b[39mtext\u001b[38;5;132;01m}\u001b[39;00m\u001b[38;5;124m - \u001b[39m\u001b[38;5;132;01m{\u001b[39;00mtxn_hash\u001b[38;5;132;01m}\u001b[39;00m\u001b[38;5;124m\"\u001b[39m\n",
      "\u001b[0;31mAssertionError\u001b[0m: {\"version\":\"535395212\",\"hash\":\"0x67ff922436d5eee13e61de9c5e0b0b06ca46cb0b81c4bca8683ff16e7d7374af\",\"state_change_hash\":\"0x033b3a733d2c61a04f25de9655d0a2925eea257b9a621f70b589677b3de5c339\",\"event_root_hash\":\"0x93429c9f85042bf4e7b5be0e3b4ddad17c2202a9e58d17883328c7404fcce2a6\",\"state_checkpoint_hash\":null,\"gas_used\":\"7\",\"success\":false,\"vm_status\":\"Move abort in 0x1::simple_map: EKEY_NOT_FOUND(0x10002): Map key is not found\",\"accumulator_root_hash\":\"0x5beb943ddbce79d5a883969d13b5c21b89540f4a818b76a715998bbac695faae\",\"changes\":[{\"address\":\"0x81edff0d5fabe3cbbf9ccb92c18cc1664eb38672e9262c9c8bd08c0bed258d81\",\"state_key_hash\":\"0xae64aedc2e651f20b9c510186523456f8cf4da37ea480b25dfa7bc0a4821bbaf\",\"data\":{\"type\":\"0x1::coin::CoinStore<0x1::aptos_coin::AptosCoin>\",\"data\":{\"coin\":{\"value\":\"199897100\"},\"deposit_events\":{\"counter\":\"2\",\"guid\":{\"id\":{\"addr\":\"0x81edff0d5fabe3cbbf9ccb92c18cc1664eb38672e9262c9c8bd08c0bed258d81\",\"creation_num\":\"2\"}}},\"frozen\":false,\"withdraw_events\":{\"counter\":\"0\",\"guid\":{\"id\":{\"addr\":\"0x81edff0d5fabe3cbbf9ccb92c18cc1664eb38672e9262c9c8bd08c0bed258d81\",\"creation_num\":\"3\"}}}}},\"type\":\"write_resource\"},{\"address\":\"0x81edff0d5fabe3cbbf9ccb92c18cc1664eb38672e9262c9c8bd08c0bed258d81\",\"state_key_hash\":\"0x1cb2c50a9602fec055deb1bc9e4407fa2bfea28007f7da0226ecccb8e6925595\",\"data\":{\"type\":\"0x1::account::Account\",\"data\":{\"authentication_key\":\"0x81edff0d5fabe3cbbf9ccb92c18cc1664eb38672e9262c9c8bd08c0bed258d81\",\"coin_register_events\":{\"counter\":\"1\",\"guid\":{\"id\":{\"addr\":\"0x81edff0d5fabe3cbbf9ccb92c18cc1664eb38672e9262c9c8bd08c0bed258d81\",\"creation_num\":\"0\"}}},\"guid_creation_num\":\"4\",\"key_rotation_events\":{\"counter\":\"0\",\"guid\":{\"id\":{\"addr\":\"0x81edff0d5fabe3cbbf9ccb92c18cc1664eb38672e9262c9c8bd08c0bed258d81\",\"creation_num\":\"1\"}}},\"rotation_capability_offer\":{\"for\":{\"vec\":[]}},\"sequence_number\":\"4\",\"signer_capability_offer\":{\"for\":{\"vec\":[]}}}},\"type\":\"write_resource\"},{\"state_key_hash\":\"0x6e4b28d40f98a106a65163530924c0dcb40c1349d3aa915d108b4d6cfc1ddb19\",\"handle\":\"0x1b854694ae746cdbd8d44186ca4929b2b337df21d1c74633be19b2710552fdca\",\"key\":\"0x0619dc29a0aac8fa146714058e8dd6d2d0f3bdf5f6331907bf91f3acd81e6935\",\"value\":\"0x63649d9e279103000100000000000000\",\"data\":null,\"type\":\"write_table_item\"}],\"sender\":\"0x81edff0d5fabe3cbbf9ccb92c18cc1664eb38672e9262c9c8bd08c0bed258d81\",\"sequence_number\":\"3\",\"max_gas_amount\":\"100000\",\"gas_unit_price\":\"100\",\"expiration_timestamp_secs\":\"1707014253\",\"payload\":{\"function\":\"0x4::aptos_token::update_property\",\"type_arguments\":[\"0x4::token::Token\"],\"arguments\":[{\"inner\":\"0x57c3961f9c19be3ace9c8d47b28046860007467878fe94733d8ebb539f412901\"},\"uri\",\"0x1::string::String\",\"0x4f68747470733a2f2f7261772e67697468756275736572636f6e74656e742e636f6d2f7265616c54616b692f4170746f732d6861636b2d726f756e642d312f6d61696e2f4e46542f696b756e2e706e67\"],\"type\":\"entry_function_payload\"},\"signature\":{\"public_key\":\"0x9844540b7039b7740c2f025e6da37edf960ff361a2e77c1497295e0e06e509f9\",\"signature\":\"0x877fc43acd7ca8f7da1cd05e26517c552ff23f716a9069b3dba25ab14eb053a493dfe92116a9c50f59f2053b56f5488bf4ccc3e5e8b6552aa260a4beb7371309\",\"type\":\"ed25519_signature\"},\"events\":[{\"guid\":{\"creation_number\":\"0\",\"account_address\":\"0x0\"},\"sequence_number\":\"0\",\"type\":\"0x1::transaction_fee::FeeStatement\",\"data\":{\"execution_gas_units\":\"4\",\"io_gas_units\":\"4\",\"storage_fee_octas\":\"0\",\"storage_fee_refund_octas\":\"0\",\"total_charge_gas_units\":\"7\"}}],\"timestamp\":\"1707013653868488\",\"type\":\"user_transaction\"} - 0x67ff922436d5eee13e61de9c5e0b0b06ca46cb0b81c4bca8683ff16e7d7374af"
     ]
    }
   ],
   "source": [
    "txn_hash = await token_client.update_token_property(alice, token_addr, Property(name=\"uri\", value=\"https://raw.githubusercontent.com/realTaki/Aptos-hack-round-1/main/NFT/ikun.png\", property_type=\"0x1::string::String\"))\n",
    "await rest_client.wait_for_transaction(txn_hash)"
   ]
  }
 ],
 "metadata": {
  "kernelspec": {
   "display_name": "aptos",
   "language": "python",
   "name": "python3"
  },
  "language_info": {
   "codemirror_mode": {
    "name": "ipython",
    "version": 3
   },
   "file_extension": ".py",
   "mimetype": "text/x-python",
   "name": "python",
   "nbconvert_exporter": "python",
   "pygments_lexer": "ipython3",
   "version": "3.10.13"
  }
 },
 "nbformat": 4,
 "nbformat_minor": 2
}
